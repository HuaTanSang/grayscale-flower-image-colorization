{
 "cells": [
  {
   "cell_type": "code",
   "execution_count": null,
   "metadata": {},
   "outputs": [],
   "source": [
    "import os \n",
    "from unetpp_model import UNET_PP\n",
    "from inference import * \n",
    "from dataset import FlowerDataset"
   ]
  },
  {
   "cell_type": "code",
   "execution_count": null,
   "metadata": {},
   "outputs": [],
   "source": [
    "best_model_dir = \"/home/huatansang/Documents/UnetPP/unetpp_checkpoint/best_model.pth\"\n",
    "device = torch.device(\"cuda\" if torch.cuda.is_available() else \"cpu\")"
   ]
  },
  {
   "cell_type": "code",
   "execution_count": null,
   "metadata": {},
   "outputs": [],
   "source": [
    "model = UNET_PP(3, 3)\n",
    "\n",
    "model = load_model(best_model_dir, device, model)"
   ]
  },
  {
   "cell_type": "code",
   "execution_count": null,
   "metadata": {},
   "outputs": [],
   "source": [
    "test_data_folder = \"/home/huatansang/Documents/UnetPP/dataset/test\"\n",
    "test_image_dir = []\n",
    "\n",
    "for image in os.listdir(test_data_folder): \n",
    "    image_dir = os.path.join(test_data_folder, image)\n",
    "    test_image_dir.append(image_dir)\n",
    "\n",
    "test_dataset = FlowerDataset(test_image_dir)"
   ]
  },
  {
   "cell_type": "code",
   "execution_count": null,
   "metadata": {},
   "outputs": [],
   "source": [
    "for i in range(len(test_dataset)):\n",
    "    gray_scale = test_dataset[i]['gray_scale']\n",
    "    rgb_scale = test_dataset[i]['rgb_scale']\n",
    "\n",
    "    gray_scale = gray_scale.to(device)\n",
    "    rgb_scale = rgb_scale.to(device)\n",
    "    gray_scale, true_rgb, pred_rgb = inference(gray_scale, rgb_scale, model, device)\n",
    "    plot_results(gray_scale, true_rgb, pred_rgb)"
   ]
  },
  {
   "cell_type": "code",
   "execution_count": null,
   "metadata": {},
   "outputs": [],
   "source": []
  },
  {
   "cell_type": "code",
   "execution_count": null,
   "metadata": {},
   "outputs": [],
   "source": [
    "plot_results(gray_scale, true_rgb, pred_rgb)"
   ]
  }
 ],
 "metadata": {
  "kernelspec": {
   "display_name": "Python 3",
   "language": "python",
   "name": "python3"
  },
  "language_info": {
   "codemirror_mode": {
    "name": "ipython",
    "version": 3
   },
   "file_extension": ".py",
   "mimetype": "text/x-python",
   "name": "python",
   "nbconvert_exporter": "python",
   "pygments_lexer": "ipython3",
   "version": "3.10.12"
  }
 },
 "nbformat": 4,
 "nbformat_minor": 2
}
